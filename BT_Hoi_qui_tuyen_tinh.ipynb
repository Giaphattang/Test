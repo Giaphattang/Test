{
  "nbformat": 4,
  "nbformat_minor": 0,
  "metadata": {
    "colab": {
      "name": "BT Hoi qui tuyen tinh.ipynb",
      "provenance": [],
      "collapsed_sections": [],
      "authorship_tag": "ABX9TyNd+OtSGCN24d8T67cQx9xb",
      "include_colab_link": true
    },
    "kernelspec": {
      "name": "python3",
      "display_name": "Python 3"
    },
    "language_info": {
      "name": "python"
    }
  },
  "cells": [
    {
      "cell_type": "markdown",
      "metadata": {
        "id": "view-in-github",
        "colab_type": "text"
      },
      "source": [
        "<a href=\"https://colab.research.google.com/github/Giaphattang/Test/blob/main/BT_Hoi_qui_tuyen_tinh.ipynb\" target=\"_parent\"><img src=\"https://colab.research.google.com/assets/colab-badge.svg\" alt=\"Open In Colab\"/></a>"
      ]
    },
    {
      "cell_type": "code",
      "metadata": {
        "id": "wr26dcHiXmzS"
      },
      "source": [
        "import numpy as np\n",
        "import matplotlib.pyplot as plt\n"
      ],
      "execution_count": 2,
      "outputs": []
    },
    {
      "cell_type": "code",
      "metadata": {
        "colab": {
          "base_uri": "https://localhost:8080/",
          "height": 282
        },
        "id": "NOU_ew3oalB1",
        "outputId": "f0b31229-73b7-45d2-dd79-5b827055b042"
      },
      "source": [
        "x = np.array ([30,40,50,60])\n",
        "y = np.array ([500,600,600,750])\n",
        "\n",
        "plt.plot(x,y,'o')"
      ],
      "execution_count": 5,
      "outputs": [
        {
          "output_type": "execute_result",
          "data": {
            "text/plain": [
              "[<matplotlib.lines.Line2D at 0x7f2fe2bf8050>]"
            ]
          },
          "metadata": {},
          "execution_count": 5
        },
        {
          "output_type": "display_data",
          "data": {
            "image/png": "[encoded data removed]",
            "text/plain": [
              "<Figure size 432x288 with 1 Axes>"
            ]
          },
          "metadata": {
            "needs_background": "light"
          }
        }
      ]
    },
    {
      "cell_type": "code",
      "metadata": {
        "colab": {
          "base_uri": "https://localhost:8080/",
          "height": 269
        },
        "id": "S9q4qmcXdkrN",
        "outputId": "dfc78e15-eea7-4f02-f6db-39cca37c4936"
      },
      "source": [
        "from IPython.display import clear_output\n",
        "m = -2\n",
        "b = 50\n",
        "\n",
        "n= 0.0001\n",
        "for j in range (50): \n",
        "  dm = 0 ;\n",
        "  db = 0 ;\n",
        "  for i in range (4):\n",
        "    dm += 2*n*(m*x[i] + b- y[i])*x[i]\n",
        "    dm += 2*n*(m*x[i] + b - y[i])\n",
        "\n",
        "  m = m-dm/4;\n",
        "  b= b-db/4;\n",
        "  clear_output (wait=True)\n",
        "  plt.plot(x,y,'o')\n",
        "  plt.plot (x,m*x+b)\n",
        "  plt.show ()"
      ],
      "execution_count": 27,
      "outputs": [
        {
          "output_type": "display_data",
          "data": {
            "image/png": "[encoded data removed]",
            "text/plain": [
              "<Figure size 432x288 with 1 Axes>"
            ]
          },
          "metadata": {
            "needs_background": "light"
          }
        }
      ]
    }
  ]
}